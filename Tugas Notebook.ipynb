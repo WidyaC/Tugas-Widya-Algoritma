{
 "cells": [
  {
   "cell_type": "markdown",
   "id": "a6b39c5a-9ed1-4b7e-b81e-7170ab538e82",
   "metadata": {},
   "source": [
    "# materi 1"
   ]
  },
  {
   "cell_type": "markdown",
   "id": "8c74941c-2140-448d-99f9-7f9fad9189d9",
   "metadata": {},
   "source": [
    "##widya situmorang\n",
    "###103102400081"
   ]
  },
  {
   "cell_type": "code",
   "execution_count": 3,
   "id": "a7e34ad7-0dfb-4c62-b95b-6bf9e2657ce3",
   "metadata": {},
   "outputs": [
    {
     "name": "stdout",
     "output_type": "stream",
     "text": [
      "widya\n"
     ]
    }
   ],
   "source": [
    "print(\"widya\")"
   ]
  },
  {
   "cell_type": "code",
   "execution_count": 5,
   "id": "c3946439-6056-40fa-a9f5-cbe1292bc606",
   "metadata": {},
   "outputs": [
    {
     "data": {
      "text/plain": [
       "5.0"
      ]
     },
     "execution_count": 5,
     "metadata": {},
     "output_type": "execute_result"
    }
   ],
   "source": [
    "lima = float(5)\n",
    "lima"
   ]
  },
  {
   "cell_type": "code",
   "execution_count": 11,
   "id": "41e0e834-a240-4044-9c5f-5d28b0ecf989",
   "metadata": {},
   "outputs": [
    {
     "name": "stdout",
     "output_type": "stream",
     "text": [
      "False\n"
     ]
    }
   ],
   "source": [
    "# Operator perbandingan\n",
    "# a\n",
    "x = 10\n",
    "z = 15\n",
    "g = x == z\n",
    "h = a != b\n",
    "i = a >= b\n",
    "j = a <= b\n",
    "\n",
    "print(g)"
   ]
  },
  {
   "cell_type": "code",
   "execution_count": 9,
   "id": "163575bf-2478-4504-b784-98b4692cede1",
   "metadata": {},
   "outputs": [
    {
     "data": {
      "text/plain": [
       "False"
      ]
     },
     "execution_count": 9,
     "metadata": {},
     "output_type": "execute_result"
    }
   ],
   "source": [
    "# logika dan\n",
    "\n",
    "a = \"Habil\"\n",
    "b = \"Arifin\"\n",
    "c = \"Sayyid\"\n",
    "d = \"Rendika\"\n",
    "\n",
    "a = d == \"Habil\"\n",
    "b = c == \"Arifin\"\n",
    "\n",
    "hasil = a and b\n",
    "hasil"
   ]
  },
  {
   "cell_type": "code",
   "execution_count": 13,
   "id": "e77d5e52-14c0-4425-b21b-4714aa69659b",
   "metadata": {},
   "outputs": [
    {
     "name": "stdin",
     "output_type": "stream",
     "text": [
      "Masukkan nama Anda:  widya\n"
     ]
    },
    {
     "name": "stdout",
     "output_type": "stream",
     "text": [
      "Nama Anda adalah sains data\n"
     ]
    }
   ],
   "source": [
    "# Input\n",
    "nama = input(\"Masukkan nama Anda: \")\n",
    "\n",
    "# Output\n",
    "prodi = \"sains data\"\n",
    "print(\"Nama Anda adalah\", prodi)"
   ]
  },
  {
   "cell_type": "code",
   "execution_count": 15,
   "id": "c4dbdeed-4c65-44ad-98cc-aeffb1ae9930",
   "metadata": {},
   "outputs": [
    {
     "name": "stdin",
     "output_type": "stream",
     "text": [
      "Nama kamu siapa?  widya situmorang\n"
     ]
    },
    {
     "name": "stdout",
     "output_type": "stream",
     "text": [
      "ohh jadi nama kamu widya situmorang\n"
     ]
    }
   ],
   "source": [
    "# Input\n",
    "# name = \"Farrel\"\n",
    "name = input(\"Nama kamu siapa? \")\n",
    "\n",
    "# Output\n",
    "print(\"ohh jadi nama kamu\", name)"
   ]
  },
  {
   "cell_type": "code",
   "execution_count": 21,
   "id": "8f218f90-bf6c-4757-bc72-83d83191d34b",
   "metadata": {},
   "outputs": [
    {
     "name": "stdout",
     "output_type": "stream",
     "text": [
      "Nama saya Widya\n",
      "umur saya18\n"
     ]
    }
   ],
   "source": [
    "nama = \"Widya\"\n",
    "Umur = \"18\"\n",
    "\n",
    "print('Nama saya',nama)\n",
    "print(f'umur saya{Umur}')"
   ]
  },
  {
   "cell_type": "markdown",
   "id": "a23b40f2-537e-462a-a07a-047301869414",
   "metadata": {},
   "source": [
    "#materi 2"
   ]
  },
  {
   "cell_type": "code",
   "execution_count": 24,
   "id": "782a32b9-2181-4867-9563-ec7cefffbb0c",
   "metadata": {},
   "outputs": [
    {
     "name": "stdin",
     "output_type": "stream",
     "text": [
      "Masukkan bilangan pertama:  5\n",
      "Masukkan bilangan kedua:  6\n"
     ]
    },
    {
     "name": "stdout",
     "output_type": "stream",
     "text": [
      "Hasil penjumlahan: 11.0\n"
     ]
    }
   ],
   "source": [
    "# Input bilangan dari pengguna\n",
    "bilangan1 = float(input(\"Masukkan bilangan pertama: \"))\n",
    "bilangan2 = float(input(\"Masukkan bilangan kedua: \"))\n",
    "\n",
    "# Hitung penjumlahan\n",
    "hasil = bilangan1 + bilangan2\n",
    "\n",
    "# Cetak hasil\n",
    "print(\"Hasil penjumlahan:\", hasil)"
   ]
  },
  {
   "cell_type": "code",
   "execution_count": 26,
   "id": "ff755787-60e4-426b-9c64-ca8cdffec2d6",
   "metadata": {},
   "outputs": [
    {
     "name": "stdin",
     "output_type": "stream",
     "text": [
      "Masukkan basis:  56\n",
      "Masukkan eksponen:  78\n"
     ]
    },
    {
     "name": "stdout",
     "output_type": "stream",
     "text": [
      "Hasil pangkat: 2.2838422686555586e+136\n"
     ]
    }
   ],
   "source": [
    "# Input basis dan eksponen dari pengguna\n",
    "basis = float(input(\"Masukkan basis: \"))\n",
    "eksponen = float(input(\"Masukkan eksponen: \"))\n",
    "\n",
    "# Hitung hasil pangkat\n",
    "hasil = basis ** eksponen\n",
    "\n",
    "# Cetak hasil\n",
    "print(\"Hasil pangkat:\", hasil)"
   ]
  },
  {
   "cell_type": "code",
   "execution_count": 28,
   "id": "2ce07540-3562-4252-ac6a-133250b92ba0",
   "metadata": {},
   "outputs": [
    {
     "name": "stdin",
     "output_type": "stream",
     "text": [
      "Masukkan bilangan pertama (integer):  05\n",
      "Masukkan bilangan kedua (integer):  06\n"
     ]
    },
    {
     "name": "stdout",
     "output_type": "stream",
     "text": [
      "Sisa bagi: 5\n"
     ]
    }
   ],
   "source": [
    "# Input bilangan dari pengguna\n",
    "bilangan1 = int(input(\"Masukkan bilangan pertama (integer): \"))\n",
    "bilangan2 = int(input(\"Masukkan bilangan kedua (integer): \"))\n",
    "\n",
    "# Hitung sisa bagi\n",
    "hasil = bilangan1 % bilangan2\n",
    "\n",
    "# Cetak hasil\n",
    "print(\"Sisa bagi:\", hasil)"
   ]
  },
  {
   "cell_type": "code",
   "execution_count": 30,
   "id": "1c3547bd-4411-47aa-8a51-b8f1f3338225",
   "metadata": {},
   "outputs": [
    {
     "name": "stdin",
     "output_type": "stream",
     "text": [
      "Masukkan bilangan:  5550\n"
     ]
    },
    {
     "name": "stdout",
     "output_type": "stream",
     "text": [
      "Akar kuadrat: 74.4983221287567\n"
     ]
    }
   ],
   "source": [
    "import math\n",
    "\n",
    "# Input bilangan dari pengguna\n",
    "bilangan = float(input(\"Masukkan bilangan: \"))\n",
    "\n",
    "# Hitung akar kuadrat\n",
    "hasil = math.sqrt(bilangan)\n",
    "\n",
    "# Cetak hasil\n",
    "print(\"Akar kuadrat:\", hasil)"
   ]
  },
  {
   "cell_type": "code",
   "execution_count": 32,
   "id": "90fda77b-0d48-4678-afb9-530fbd040ffa",
   "metadata": {},
   "outputs": [
    {
     "name": "stdin",
     "output_type": "stream",
     "text": [
      "Masukkan tinggi segitiga:  15\n",
      "Masukkan alas segitiga:  20\n"
     ]
    },
    {
     "name": "stdout",
     "output_type": "stream",
     "text": [
      "Luas segitiga: 150.0\n"
     ]
    }
   ],
   "source": [
    "# Input tinggi dan alas segitiga dari pengguna\n",
    "tinggi = float(input(\"Masukkan tinggi segitiga: \"))\n",
    "alas = float(input(\"Masukkan alas segitiga: \"))\n",
    "\n",
    "# Hitung luas segitiga\n",
    "luas = 0.5 * tinggi * alas\n",
    "\n",
    "# Cetak hasil\n",
    "print(\"Luas segitiga:\", luas)"
   ]
  },
  {
   "cell_type": "code",
   "execution_count": 34,
   "id": "1fac890f-184f-4da1-8eaf-81b13ed87c01",
   "metadata": {},
   "outputs": [
    {
     "name": "stdin",
     "output_type": "stream",
     "text": [
      "Masukkan panjang dalam meter:  20\n"
     ]
    },
    {
     "name": "stdout",
     "output_type": "stream",
     "text": [
      "Panjang dalam kilometer: 0.02\n",
      "Panjang dalam sentimeter: 2000.0\n"
     ]
    }
   ],
   "source": [
    "# Input panjang dalam meter dari pengguna\n",
    "panjang_meter = float(input(\"Masukkan panjang dalam meter: \"))\n",
    "\n",
    "# Konversi panjang ke kilometer dan sentimeter\n",
    "panjang_kilometer = panjang_meter / 1000\n",
    "panjang_sentimeter = panjang_meter * 100\n",
    "\n",
    "# Cetak hasil\n",
    "print(\"Panjang dalam kilometer:\", panjang_kilometer)\n",
    "print(\"Panjang dalam sentimeter:\", panjang_sentimeter)"
   ]
  },
  {
   "cell_type": "code",
   "execution_count": 36,
   "id": "8d7f0011-89f8-4bf1-ab7f-5496d96b4ed2",
   "metadata": {},
   "outputs": [
    {
     "name": "stdin",
     "output_type": "stream",
     "text": [
      "Masukkan bilangan bulat positif:  50\n"
     ]
    },
    {
     "name": "stdout",
     "output_type": "stream",
     "text": [
      "Faktorial dari 50 adalah 30414093201713378043612608166064768844377641568960512000000000000\n"
     ]
    }
   ],
   "source": [
    "# Input bilangan bulat positif dari pengguna\n",
    "n = int(input(\"Masukkan bilangan bulat positif: \"))\n",
    "\n",
    "# Inisialisasi hasil dengan nilai awal 1\n",
    "hasil = 1\n",
    "\n",
    "# Hitung faktorial\n",
    "for i in range(1, n + 1):\n",
    "    hasil *= i\n",
    "\n",
    "# Cetak hasil\n",
    "print(f\"Faktorial dari {n} adalah {hasil}\")"
   ]
  },
  {
   "cell_type": "markdown",
   "id": "a2c18968-cc92-4a2e-aef6-ac1b9d516a16",
   "metadata": {},
   "source": [
    "#materi 3"
   ]
  },
  {
   "cell_type": "code",
   "execution_count": 39,
   "id": "aec3e661-0cd7-4b06-8092-9e706544c054",
   "metadata": {},
   "outputs": [
    {
     "name": "stdout",
     "output_type": "stream",
     "text": [
      "Hello world\n"
     ]
    }
   ],
   "source": [
    "print(\"Hello world\")"
   ]
  },
  {
   "cell_type": "code",
   "execution_count": 41,
   "id": "f15af616-060d-4519-9795-20f11a32160b",
   "metadata": {},
   "outputs": [
    {
     "name": "stdout",
     "output_type": "stream",
     "text": [
      "widya\n"
     ]
    }
   ],
   "source": [
    "print(\"widya\")"
   ]
  },
  {
   "cell_type": "code",
   "execution_count": 43,
   "id": "696baa2e-9682-4245-8c35-c4713c6e0401",
   "metadata": {},
   "outputs": [],
   "source": [
    "#print('nama saya widya')"
   ]
  },
  {
   "cell_type": "code",
   "execution_count": 45,
   "id": "e72bbbf4-ec67-43d2-9d1d-d8a7378735b4",
   "metadata": {},
   "outputs": [
    {
     "ename": "SyntaxError",
     "evalue": "leading zeros in decimal integer literals are not permitted; use an 0o prefix for octal integers (4284247444.py, line 2)",
     "output_type": "error",
     "traceback": [
      "\u001b[1;36m  Cell \u001b[1;32mIn[45], line 2\u001b[1;36m\u001b[0m\n\u001b[1;33m    print(05) #integer\u001b[0m\n\u001b[1;37m          ^\u001b[0m\n\u001b[1;31mSyntaxError\u001b[0m\u001b[1;31m:\u001b[0m leading zeros in decimal integer literals are not permitted; use an 0o prefix for octal integers\n"
     ]
    }
   ],
   "source": [
    "#mencetak nilai \n",
    "print(05) #integer"
   ]
  },
  {
   "cell_type": "code",
   "execution_count": null,
   "id": "a7ad764f-a83c-4ac9-81d6-d88f8282ab50",
   "metadata": {},
   "outputs": [],
   "source": [
    "Latihan\n",
    "Jalankan program tersebut di komputer anda, menggunakan jupyter-notebook, google colab, ataupun jupyterlab\n",
    "Buatlah program menggunakan print() seperti output dibawah catatan: ubahlah dengan menampilkan informasi atau biodata anda masing - masing, dengan menampilkan serta berikan komentar disetiap baris pada script anda.\n",
    "Praktikum algoritma dan pemrograman\n",
    "Nama : widya\n",
    "NIM : 103102400081\n",
    "Angkatan : 2024\n",
    "Jurusan : Sains Data\n",
    "Fakultas : informatika\n",
    "Telkom university surabaya\n",
    "Jalankan script dibawah ini, kemudian berikan penjelasan pada script maupun output nya, jika terjadi error, silahkan anda perbaiki\n",
    "print(\"Ini Yaya\") #mencetak penjelasan Yaya\n",
    "print('Yaya bersekolah di SDN 1 pengombusan) #sekolah Yaya\n",
    "prnt(\"Cita - cita ingin menjadi seorang Pramugari\") #cita-cita Yaya"
   ]
  },
  {
   "cell_type": "code",
   "execution_count": 47,
   "id": "23bc3b72-a2c9-47b4-9dc3-02151ce6796c",
   "metadata": {},
   "outputs": [
    {
     "name": "stdout",
     "output_type": "stream",
     "text": [
      "ini Yaya\n"
     ]
    }
   ],
   "source": [
    "print(\"ini Yaya\")"
   ]
  },
  {
   "cell_type": "code",
   "execution_count": 49,
   "id": "c34d59d0-9950-463d-a2f9-2045b7ccbadc",
   "metadata": {},
   "outputs": [
    {
     "name": "stdout",
     "output_type": "stream",
     "text": [
      "yaya bersekolah di SDN 1 pangombusan\n"
     ]
    }
   ],
   "source": [
    "print(\"yaya bersekolah di SDN 1 pangombusan\")"
   ]
  },
  {
   "cell_type": "code",
   "execution_count": 51,
   "id": "e7888c69-2f7d-40ee-964b-0ebd76111850",
   "metadata": {},
   "outputs": [
    {
     "name": "stdout",
     "output_type": "stream",
     "text": [
      "cita-cita ini menjadi pramugari\n"
     ]
    }
   ],
   "source": [
    "print(\"cita-cita ini menjadi pramugari\")"
   ]
  },
  {
   "cell_type": "markdown",
   "id": "eb83c683-4c3e-4760-bfee-0870c4135aaf",
   "metadata": {},
   "source": [
    "#materi 4 "
   ]
  },
  {
   "cell_type": "code",
   "execution_count": 54,
   "id": "d69c22f6-ab48-4721-a1ac-d3a6a754cca9",
   "metadata": {},
   "outputs": [
    {
     "name": "stdin",
     "output_type": "stream",
     "text": [
      "Masukkan angka pertama:  5\n",
      "Masukkan angka kedua:  6\n"
     ]
    },
    {
     "name": "stdout",
     "output_type": "stream",
     "text": [
      "Pilih operasi:\n",
      "1. Penjumlahan\n",
      "2. Pengurangan\n",
      "3. Perkalian\n",
      "4. Pembagian\n"
     ]
    }
   ],
   "source": [
    "# Meminta pengguna memasukkan dua angka\n",
    "angka1 = float(input(\"Masukkan angka pertama: \"))\n",
    "angka2 = float(input(\"Masukkan angka kedua: \"))\n",
    "\n",
    "# Meminta pengguna memilih operasi\n",
    "print(\"Pilih operasi:\")\n",
    "print(\"1. Penjumlahan\")\n",
    "print(\"2. Pengurangan\")\n",
    "print(\"3. Perkalian\")\n",
    "print(\"4. Pembagian\")"
   ]
  },
  {
   "cell_type": "code",
   "execution_count": 56,
   "id": "4590e39f-aa07-4e12-b4c3-d4df470b18dc",
   "metadata": {},
   "outputs": [
    {
     "ename": "NameError",
     "evalue": "name 'pilihan' is not defined",
     "output_type": "error",
     "traceback": [
      "\u001b[1;31m---------------------------------------------------------------------------\u001b[0m",
      "\u001b[1;31mNameError\u001b[0m                                 Traceback (most recent call last)",
      "Cell \u001b[1;32mIn[56], line 2\u001b[0m\n\u001b[0;32m      1\u001b[0m \u001b[38;5;66;03m# Menjalankan operasi yang dipilih\u001b[39;00m\n\u001b[1;32m----> 2\u001b[0m \u001b[38;5;28;01mif\u001b[39;00m pilihan \u001b[38;5;241m==\u001b[39m \u001b[38;5;124m'\u001b[39m\u001b[38;5;124m1\u001b[39m\u001b[38;5;124m'\u001b[39m:\n\u001b[0;32m      3\u001b[0m     hasil \u001b[38;5;241m=\u001b[39m angka1 \u001b[38;5;241m+\u001b[39m angka2\n\u001b[0;32m      4\u001b[0m     \u001b[38;5;28mprint\u001b[39m(\u001b[38;5;124m\"\u001b[39m\u001b[38;5;124mHasil penjumlahan:\u001b[39m\u001b[38;5;124m\"\u001b[39m, hasil)\n",
      "\u001b[1;31mNameError\u001b[0m: name 'pilihan' is not defined"
     ]
    }
   ],
   "source": [
    "# Menjalankan operasi yang dipilih\n",
    "if pilihan == '1':\n",
    "    hasil = angka1 + angka2\n",
    "    print(\"Hasil penjumlahan:\", hasil)\n",
    "elif pilihan == '2':\n",
    "    hasil = angka1 - angka2\n",
    "    print(\"Hasil pengurangan:\", hasil)\n",
    "elif pilihan == '3':\n",
    "    hasil = angka1 * angka2\n",
    "    print(\"Hasil perkalian:\", hasil)\n",
    "elif pilihan == '4':\n",
    "    if angka2 != 0:\n",
    "        hasil = angka1 / angka2\n",
    "        print(\"Hasil pembagian:\", hasil)\n",
    "    else:\n",
    "        print(\"Pembagian oleh nol tidak diizinkan.\")\n",
    "else:\n",
    "    print(\"Pilihan operasi tidak valid\")"
   ]
  },
  {
   "cell_type": "code",
   "execution_count": 60,
   "id": "6e4349a0-a186-4051-927a-6302d8d1ff65",
   "metadata": {},
   "outputs": [
    {
     "name": "stdout",
     "output_type": "stream",
     "text": [
      "profit yang didapatkan adalah  300000\n"
     ]
    }
   ],
   "source": [
    "biaya_bahan_baku = 5000 # Biaya bahan baku makanan\n",
    "harga_penjualan = 8000  # Harga penjualan makanan\n",
    "jumlah_pesanan = 100  # Jumlah porsi yang dipesan\n",
    "\n",
    "if biaya_bahan_baku < harga_penjualan:\n",
    "    if jumlah_pesanan > 100:\n",
    "        harga_penjualan = harga_penjualan * 0.9  # Berikan diskon 10%\n",
    "        profit = (harga_penjualan - biaya_bahan_baku) * jumlah_pesanan\n",
    "        print('Profit yang didapatkan adalah ',profit)\n",
    "    else:\n",
    "        profit = (harga_penjualan - biaya_bahan_baku) * jumlah_pesanan\n",
    "        print('profit yang didapatkan adalah ', profit)\n",
    "else:\n",
    "    profit = 0  # Tidak ada keuntungan karena biaya lebih tinggi dari harga jual\n",
    "    print('profit yang didapatkan adalah ',profit)"
   ]
  },
  {
   "cell_type": "markdown",
   "id": "009c5e29-a39e-4c21-a41c-cfcfa0a4a2e0",
   "metadata": {},
   "source": [
    "#materi 5"
   ]
  },
  {
   "cell_type": "code",
   "execution_count": 63,
   "id": "4b0d735e-8cbd-49a2-876b-cb8ec73c5576",
   "metadata": {},
   "outputs": [
    {
     "name": "stdout",
     "output_type": "stream",
     "text": [
      "Hwelo, world!:\n"
     ]
    }
   ],
   "source": [
    "print(\"Hwelo, world!:\")"
   ]
  },
  {
   "cell_type": "code",
   "execution_count": 65,
   "id": "952625ef-4a41-4e83-a9ec-e089acbd0d8d",
   "metadata": {},
   "outputs": [
    {
     "name": "stdout",
     "output_type": "stream",
     "text": [
      "hello, world!\n"
     ]
    }
   ],
   "source": [
    "print(f\"hello, world!\")"
   ]
  },
  {
   "cell_type": "code",
   "execution_count": 67,
   "id": "655e025b-8496-485d-bbad-bb8d18f1a794",
   "metadata": {},
   "outputs": [
    {
     "name": "stdout",
     "output_type": "stream",
     "text": [
      "Komentar tidak akan mengeluarkan output apapun\n"
     ]
    }
   ],
   "source": [
    "# ini namanya komentar gaes!!!\n",
    "\n",
    "\"\"\"\n",
    "ini juga komentar gaes, tapi bisa banyak baris\n",
    "ini juga komentar gaes, tapi bisa banyak baris\n",
    "ini juga komentar gaes, tapi bisa banyak baris\n",
    "ini juga komentar gaes, tapi bisa banyak baris\n",
    "\"\"\"\n",
    "\n",
    "print(\"Komentar tidak akan mengeluarkan output apapun\")"
   ]
  },
  {
   "cell_type": "code",
   "execution_count": 69,
   "id": "bb7d2cca-965c-4241-8be5-de1218928ad8",
   "metadata": {},
   "outputs": [],
   "source": [
    "# Variabel\n",
    "Nama = \"Widya\"\n",
    "umur = 18\n",
    "status_pernikahan = \"Belum Menikah\"\n",
    "statuspernikahan = \"Menikah\""
   ]
  },
  {
   "cell_type": "code",
   "execution_count": 71,
   "id": "35a3de2c-6bc8-4079-ac65-672c47a01790",
   "metadata": {},
   "outputs": [
    {
     "name": "stdout",
     "output_type": "stream",
     "text": [
      "Nama: Widya dan Umur: 18\n",
      "Nama: Widya dan Umur: 18\n",
      "\n",
      "\n",
      "Widya\n",
      "dan\n",
      "Alvyn\n"
     ]
    }
   ],
   "source": [
    "# Tipe data\n",
    "bilangan_bulat = 10\n",
    "bilangan_desimal = 3.14\n",
    "teks = \"Halo, telkom!\"\n",
    "teks_multibaris = '''Widya\n",
    "dan\n",
    "Alvyn'''\n",
    "boolean = True\n",
    "\n",
    "# Menampilkan nilai variabel\n",
    "print('Nama:', nama, 'dan Umur:', umur)\n",
    "print(f\"Nama: {nama} dan Umur: {umur}\")\n",
    "print('\\n')\n",
    "print(teks_multibaris)"
   ]
  },
  {
   "cell_type": "code",
   "execution_count": 73,
   "id": "6d706b14-16f6-4ded-9809-0d79ceacdbbf",
   "metadata": {},
   "outputs": [],
   "source": [
    "nama = \"widya\"\n",
    "a = 15; b = 60\n",
    "kesibukan, keterangan = 'Berkuliah','Institut Teknologi Telkom Surabaya'"
   ]
  },
  {
   "cell_type": "code",
   "execution_count": 75,
   "id": "b248fe77-0515-459b-b67d-f85ad687921e",
   "metadata": {},
   "outputs": [
    {
     "name": "stdin",
     "output_type": "stream",
     "text": [
      "Masukkan nama Anda:  widya\n",
      "Berapa harganya?:  500000\n"
     ]
    },
    {
     "name": "stdout",
     "output_type": "stream",
     "text": [
      "\n",
      "\n",
      "Halo, aku widya dan aku sudah makan ayam goreng yang harganya Rp 500000\n"
     ]
    }
   ],
   "source": [
    "nama = input(\"Masukkan nama Anda: \")\n",
    "makan = 'sudah'\n",
    "harga = int(input(\"Berapa harganya?: \"))\n",
    "\n",
    "print('\\n')\n",
    "print(\"Halo, aku\", nama, 'dan aku', makan, 'makan ayam goreng yang harganya Rp', harga)"
   ]
  },
  {
   "cell_type": "code",
   "execution_count": 77,
   "id": "68586b3c-15ca-4ec2-a316-5fbd2ef5a2a7",
   "metadata": {},
   "outputs": [
    {
     "name": "stdin",
     "output_type": "stream",
     "text": [
      "Masukkan nilaimu:  90\n"
     ]
    },
    {
     "name": "stdout",
     "output_type": "stream",
     "text": [
      "Selamat anda lulus MatKul Algoritma & Pemrograman!\n"
     ]
    }
   ],
   "source": [
    "nilai = int(input(\"Masukkan nilaimu: \"))\n",
    "\n",
    "if nilai >= 70:\n",
    "    print(\"Selamat anda lulus MatKul Algoritma & Pemrograman!\")\n",
    "elif nilai == 50:\n",
    "    print('Semoga Lulus')\n",
    "else:\n",
    "    print(\"Maaf anda tidak lulus\")"
   ]
  },
  {
   "cell_type": "code",
   "execution_count": 79,
   "id": "cfd72f08-86a2-4061-b493-555b1d38c4a8",
   "metadata": {},
   "outputs": [
    {
     "name": "stdout",
     "output_type": "stream",
     "text": [
      "1\n",
      "Namaku 1\n",
      "2\n",
      "Namaku 2\n",
      "3\n",
      "Namaku 3\n",
      "4\n",
      "Namaku 4\n"
     ]
    }
   ],
   "source": [
    "for i in range(1,5):\n",
    "    print(i)\n",
    "    print('Namaku',i)"
   ]
  },
  {
   "cell_type": "code",
   "execution_count": 81,
   "id": "ea4e8edb-5ebb-4ef7-bacd-e71d1fa1907c",
   "metadata": {},
   "outputs": [
    {
     "name": "stdout",
     "output_type": "stream",
     "text": [
      "Nama Saya widya\n",
      "Ini cuman nyoba widya\n",
      "Nama Saya yura\n",
      "Ini cuman nyoba yura\n",
      "Nama Saya lian\n",
      "Ini cuman nyoba lian\n",
      "Nama Saya nindy\n",
      "Ini cuman nyoba nindy\n"
     ]
    }
   ],
   "source": [
    "names = ['widya',\"yura\",\"lian\",\"nindy\"]\n",
    "for name in names:\n",
    "    print(\"Nama Saya\",name)\n",
    "    print(\"Ini cuman nyoba\",name)"
   ]
  },
  {
   "cell_type": "code",
   "execution_count": 83,
   "id": "b43b52bc-5993-491b-8449-b529f6157379",
   "metadata": {},
   "outputs": [
    {
     "name": "stdout",
     "output_type": "stream",
     "text": [
      "False\n"
     ]
    }
   ],
   "source": [
    "# Operator perbandingan\n",
    "# a\n",
    "x = 10\n",
    "z = 15\n",
    "g = x == z\n",
    "h = a != b\n",
    "i = a >= b\n",
    "j = a <= b\n",
    "\n",
    "print(g)"
   ]
  },
  {
   "cell_type": "markdown",
   "id": "ad893e0d-14f4-4ba2-8684-95f622818bef",
   "metadata": {},
   "source": [
    "#materi 6"
   ]
  },
  {
   "cell_type": "code",
   "execution_count": null,
   "id": "4940f904-734e-4f48-aff2-1c85e29e514e",
   "metadata": {},
   "outputs": [],
   "source": [
    "def nama_fungsi(parameterFormal1, parameterFormalN):\n",
    "\t# function body / process\n",
    "\t# function body / process\n",
    "\t# function body / process\n",
    "\treturn returned_variable # opsional, sesuai kebutuhan\n",
    "Sintaks pembuatan function di atas secara umum terbagi menjadi 5 bagian:\n",
    "\n",
    "Kata kunci def yang menjadi pertanda bahwa blok kode program adalah sebuah fungsi\n",
    "Nama fungsi yang kita buat\n",
    "Parameters yang akan diterima oleh fungsi yang kita buat (tidak wajib)\n",
    "Dan blok kode fungsi yang di sana akan kita tulis perintah-perintah yang harus dilakukan oleh sebuah fungsi\n",
    "Pengembalian nilai (menggunakan statement return) dilakukan secara opsional (sesuaikan dengan proses apa yang ingin dilakukan)."
   ]
  },
  {
   "cell_type": "code",
   "execution_count": 86,
   "id": "372fab1a-742c-40c2-83b3-3389a37cded0",
   "metadata": {},
   "outputs": [
    {
     "name": "stdout",
     "output_type": "stream",
     "text": [
      "Hallo widya, selamat datang!\n",
      "Hallo yura, selamat datang!\n",
      "Hallo lian, selamat datang!\n",
      "Hallo nindy, selamat datang!\n"
     ]
    }
   ],
   "source": [
    "print('Hallo widya, selamat datang!')\n",
    "print('Hallo yura, selamat datang!')\n",
    "print('Hallo lian, selamat datang!')\n",
    "print('Hallo nindy, selamat datang!')"
   ]
  },
  {
   "cell_type": "code",
   "execution_count": 88,
   "id": "562dffe8-4386-4ae4-a29d-d2eb9db69cf1",
   "metadata": {},
   "outputs": [
    {
     "name": "stdout",
     "output_type": "stream",
     "text": [
      "Halo widya, selamat datang!\n",
      "Halo yura, selamat datang!\n",
      "Halo lian, selamat datang!\n",
      "Halo nindy, selamat datang!\n"
     ]
    }
   ],
   "source": [
    "def selamat_datang (nama):\n",
    "    print(f'Halo {nama}, selamat datang!')\n",
    "\n",
    "selamat_datang('widya')\n",
    "selamat_datang('yura')\n",
    "selamat_datang('lian')\n",
    "selamat_datang('nindy')"
   ]
  },
  {
   "cell_type": "code",
   "execution_count": 90,
   "id": "16f2596d-92e1-4b3e-9592-52013874f0cc",
   "metadata": {},
   "outputs": [
    {
     "name": "stdin",
     "output_type": "stream",
     "text": [
      "Masukkan nilai pertama:  70\n",
      "Masukkan nilai kedua:  100\n",
      "Masukkan nilai ketiga:  50\n"
     ]
    }
   ],
   "source": [
    "def predikatMahasiswa(nilai1, nilai2, nilai3):\n",
    "    rataRata = (nilai1 + nilai2 + nilai3)/3\n",
    "    if rataRata >= 80 and rataRata <= 100:\n",
    "        print(\"Selamat, predikat kamu A!\")\n",
    "    elif rataRata >= 60 and rataRata < 80:\n",
    "        print(\"Predikat kamu B, pertahankan yaa!\")\n",
    "    elif rataRata >= 30 and rataRata < 60:\n",
    "        print(\"Predikat kamu C, perbaiki ya!\")\n",
    "    elif rataRata >= 0 and rataRata < 30:\n",
    "        print(\"hallo dunia\")\n",
    "        \n",
    "nilaiMhs1 = int(input(\"Masukkan nilai pertama: \"))\n",
    "nilaiMhs2 = int(input(\"Masukkan nilai kedua: \"))\n",
    "nilaiMhs3 = int(input(\"Masukkan nilai ketiga: \"))"
   ]
  },
  {
   "cell_type": "code",
   "execution_count": 92,
   "id": "b80d4967-48ac-44d2-b369-6206d7389947",
   "metadata": {},
   "outputs": [
    {
     "name": "stdout",
     "output_type": "stream",
     "text": [
      "Luas Segitiga: 50.0\n"
     ]
    }
   ],
   "source": [
    "def luasSegitiga(alas, tinggi):\n",
    "    result = 0.5*alas*tinggi\n",
    "    return result\n",
    "\n",
    "hasilLuas = luasSegitiga(10, 10)\n",
    "print(f\"Luas Segitiga: {hasilLuas}\")"
   ]
  },
  {
   "cell_type": "code",
   "execution_count": 94,
   "id": "3f51a64a-e4ed-4c56-9c43-23dd2db41d9e",
   "metadata": {},
   "outputs": [
    {
     "name": "stdout",
     "output_type": "stream",
     "text": [
      "15\n"
     ]
    }
   ],
   "source": [
    "def tambah_angka(x, y):\n",
    "    return x + y\n",
    "\n",
    "hasil = tambah_angka(5, 10)\n",
    "print(hasil)\n"
   ]
  },
  {
   "cell_type": "code",
   "execution_count": 96,
   "id": "199e8be6-d42c-4bf2-952f-a5d9c50ee6b6",
   "metadata": {},
   "outputs": [
    {
     "name": "stdout",
     "output_type": "stream",
     "text": [
      "Hasil penjumlahan: 22\n"
     ]
    }
   ],
   "source": [
    "def jumlahkan(*args):\n",
    "    return sum(args)\n",
    "\n",
    "hasil_penjumlahan = jumlahkan(1, 2, 3, 4, 5,7)\n",
    "print(\"Hasil penjumlahan:\", hasil_penjumlahan)"
   ]
  },
  {
   "cell_type": "code",
   "execution_count": 98,
   "id": "40887abd-0b63-4bd9-a902-ea04d25179ed",
   "metadata": {},
   "outputs": [
    {
     "name": "stdout",
     "output_type": "stream",
     "text": [
      "15\n"
     ]
    }
   ],
   "source": [
    "\n",
    "def fungsi_ubah_global():\n",
    "    global variabel_global\n",
    "    variabel_global = 15\n",
    "\n",
    "fungsi_ubah_global()\n",
    "print(variabel_global)\n",
    "# Output: 15"
   ]
  },
  {
   "cell_type": "code",
   "execution_count": 100,
   "id": "4b1457fd-e486-400a-9aa7-2c9e45bcb757",
   "metadata": {},
   "outputs": [
    {
     "name": "stdout",
     "output_type": "stream",
     "text": [
      "8\n",
      "10\n"
     ]
    }
   ],
   "source": [
    "def fungsi_dengan_parameter(a, b=5):\n",
    "    hasil = a + b\n",
    "    print(hasil)\n",
    "\n",
    "fungsi_dengan_parameter(3)\n",
    "# Output: 8\n",
    "fungsi_dengan_parameter(3, 7)\n",
    "# Output: 10"
   ]
  },
  {
   "cell_type": "code",
   "execution_count": 102,
   "id": "a28b2bdd-448e-4c54-9f87-cb6e36a44103",
   "metadata": {},
   "outputs": [
    {
     "name": "stdout",
     "output_type": "stream",
     "text": [
      "6\n"
     ]
    }
   ],
   "source": [
    "def fungsi_parameter_tak_berurut(a, b, c):\n",
    "    hasil = a + b + c\n",
    "    print(hasil)\n",
    "\n",
    "fungsi_parameter_tak_berurut(c=3, a=1, b=2)\n",
    "# Output: 6"
   ]
  },
  {
   "cell_type": "markdown",
   "id": "a1c5d1fd-d283-43b2-a55d-0e408f351c1c",
   "metadata": {},
   "source": [
    "#materi 7"
   ]
  },
  {
   "cell_type": "code",
   "execution_count": 105,
   "id": "fe8c9364-1189-441b-a81c-6fda2d471ebb",
   "metadata": {},
   "outputs": [
    {
     "name": "stdout",
     "output_type": "stream",
     "text": [
      "hello world\n"
     ]
    }
   ],
   "source": [
    "print(\"hello world\")"
   ]
  },
  {
   "cell_type": "code",
   "execution_count": 107,
   "id": "af968d64-e3d3-495a-8608-f0545f184241",
   "metadata": {},
   "outputs": [
    {
     "ename": "SyntaxError",
     "evalue": "unterminated string literal (detected at line 13) (1185013847.py, line 13)",
     "output_type": "error",
     "traceback": [
      "\u001b[1;36m  Cell \u001b[1;32mIn[107], line 13\u001b[1;36m\u001b[0m\n\u001b[1;33m    print('Budi bersekolah di SDN Kedung Baruk) #sekolah Budi\u001b[0m\n\u001b[1;37m          ^\u001b[0m\n\u001b[1;31mSyntaxError\u001b[0m\u001b[1;31m:\u001b[0m unterminated string literal (detected at line 13)\n"
     ]
    }
   ],
   "source": [
    "Latihan\n",
    "Jalankan program tersebut di komputer anda, menggunakan jupyter-notebook, google colab, ataupun jupyterlab\n",
    "Buatlah program menggunakan print() seperti output dibawah catatan: ubahlah dengan menampilkan informasi atau biodata anda masing - masing, dengan menampilkan serta berikan komentar disetiap baris pada script anda.\n",
    "Praktikum algoritma dan pemrograman\n",
    "Nama : widya\n",
    "NIM : 103102400081\n",
    "Angkatan : 2024\n",
    "Jurusan : Sains Data\n",
    "Fakultas informatika\n",
    "Telkom university surabaya\n",
    "Jalankan script dibawah ini, kemudian berikan penjelasan pada script maupun output nya, jika terjadi error, silahkan anda perbaiki\n",
    "print(\"Ini Budi\") #mencetak penjelasan Budi\n",
    "print('Budi bersekolah di SDN Kedung Baruk) #sekolah Budi\n",
    "prnt(\"Cita - cita ingin menjadi seorang Pilot\") #cita-cita budi"
   ]
  },
  {
   "cell_type": "code",
   "execution_count": null,
   "id": "06d0057e-5cb1-448f-b7ef-457ccc21151d",
   "metadata": {},
   "outputs": [],
   "source": []
  }
 ],
 "metadata": {
  "kernelspec": {
   "display_name": "Python 3 (ipykernel)",
   "language": "python",
   "name": "python3"
  },
  "language_info": {
   "codemirror_mode": {
    "name": "ipython",
    "version": 3
   },
   "file_extension": ".py",
   "mimetype": "text/x-python",
   "name": "python",
   "nbconvert_exporter": "python",
   "pygments_lexer": "ipython3",
   "version": "3.12.4"
  }
 },
 "nbformat": 4,
 "nbformat_minor": 5
}
